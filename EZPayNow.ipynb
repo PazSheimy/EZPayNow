{
  "nbformat": 4,
  "nbformat_minor": 0,
  "metadata": {
    "colab": {
      "provenance": [],
      "authorship_tag": "ABX9TyPUBR8p8m05a3oVGjhr/dXy",
      "include_colab_link": true
    },
    "kernelspec": {
      "name": "python3",
      "display_name": "Python 3"
    },
    "language_info": {
      "name": "python"
    }
  },
  "cells": [
    {
      "cell_type": "markdown",
      "metadata": {
        "id": "view-in-github",
        "colab_type": "text"
      },
      "source": [
        "<a href=\"https://colab.research.google.com/github/PazSheimy/EZPayNow/blob/main/EZPayNow.ipynb\" target=\"_parent\"><img src=\"https://colab.research.google.com/assets/colab-badge.svg\" alt=\"Open In Colab\"/></a>"
      ]
    },
    {
      "cell_type": "code",
      "execution_count": 1,
      "metadata": {
        "colab": {
          "base_uri": "https://localhost:8080/"
        },
        "id": "eNM2ZZYHjJnT",
        "outputId": "beb2a346-7029-45bd-b5ee-16c2e37a45ac"
      },
      "outputs": [
        {
          "output_type": "stream",
          "name": "stdout",
          "text": [
            "Looking in indexes: https://pypi.org/simple, https://us-python.pkg.dev/colab-wheels/public/simple/\n",
            "Requirement already satisfied: requests in /usr/local/lib/python3.10/dist-packages (2.27.1)\n",
            "Requirement already satisfied: idna<4,>=2.5 in /usr/local/lib/python3.10/dist-packages (from requests) (3.4)\n",
            "Requirement already satisfied: certifi>=2017.4.17 in /usr/local/lib/python3.10/dist-packages (from requests) (2022.12.7)\n",
            "Requirement already satisfied: urllib3<1.27,>=1.21.1 in /usr/local/lib/python3.10/dist-packages (from requests) (1.26.15)\n",
            "Requirement already satisfied: charset-normalizer~=2.0.0 in /usr/local/lib/python3.10/dist-packages (from requests) (2.0.12)\n"
          ]
        }
      ],
      "source": [
        "pip install requests"
      ]
    },
    {
      "cell_type": "code",
      "source": [
        "pip install beautifulsoup4"
      ],
      "metadata": {
        "colab": {
          "base_uri": "https://localhost:8080/"
        },
        "id": "nRD_JkWnFUhw",
        "outputId": "f680d0fb-b720-407e-fcee-f9a2aed6a33e"
      },
      "execution_count": 18,
      "outputs": [
        {
          "output_type": "stream",
          "name": "stdout",
          "text": [
            "Looking in indexes: https://pypi.org/simple, https://us-python.pkg.dev/colab-wheels/public/simple/\n",
            "Requirement already satisfied: beautifulsoup4 in /usr/local/lib/python3.10/dist-packages (4.11.2)\n",
            "Requirement already satisfied: soupsieve>1.2 in /usr/local/lib/python3.10/dist-packages (from beautifulsoup4) (2.4.1)\n"
          ]
        }
      ]
    },
    {
      "cell_type": "code",
      "source": [
        "import requests\n",
        "import hashlib\n",
        "import time\n",
        "import bs4\n",
        "\n",
        "# Generate a unique order ID using the current timestamp\n",
        "order_id = f\"test_order_{int(time.time())}\"\n",
        "\n",
        "\n",
        "url = \"https://backoffice.ezpaynow.biz/api/transact.php\"\n",
        "\n",
        "\n",
        "# Set the transaction data, including the unique order ID\n",
        "data = {\n",
        "    \"affiliate\": \"INTERVIEW\",\n",
        "    \"paymethod\": \"Credit Card\",\n",
        "    \"processing_mode\": \"sale\",\n",
        "    \"redirect\": \"https://any\",\n",
        "    \"order_id\": order_id,\n",
        "    \"terminal_name\": \"T1SF6UK3\",\n",
        "    \"first_name\": \"Sheimy\",\n",
        "    \"last_name\": \"Paz\",\n",
        "    \"address1\": \"123 Main St\",\n",
        "    \"city\": \"Marco Island\",\n",
        "    \"state\": \"FL\",\n",
        "    \"country\": \"US\",\n",
        "    \"zip\": \"34145\",\n",
        "    \"telephone\": \"2396879719\",\n",
        "    \"amount\": \"80.00\",\n",
        "    \"currency\": \"USD\",\n",
        "    \"email\": \"sheimypazserpa@gamil.com\",\n",
        "    \"card_type\": \"Visa\",\n",
        "    \"card_number\": \"4111111111111111\",\n",
        "    \"cvv\": \"123\",\n",
        "    \"expiry_mo\": \"12\",\n",
        "    \"expiry_yr\": \"2025\",\n",
        "    \"customer_ip\": \"127.0.0.1\"\n",
        "}\n",
        "api_key = \"slMM6vG17LCbOqq4\"\n",
        "\n",
        "# Generate the signature for the transaction\n",
        "signature = hashlib.md5((data['terminal_name'] + data['order_id'] + data['amount'] + data['currency'] + api_key).encode('utf-8')).hexdigest()\n",
        "data['signature'] = signature\n",
        "\n",
        "# Send the transaction request to the API\n",
        "response = requests.post(url, data=data)\n",
        "\n",
        "# Check the response status code\n",
        "if response.status_code == 200:\n",
        "    content_type = response.headers.get(\"Content-Type\")\n",
        "    \n",
        "    # Check if the response is of type HTML\n",
        "    if \"text/html\" in content_type:\n",
        "\n",
        "      # Parse the HTML response using BeautifulSoup\n",
        "        soup = BeautifulSoup(response.text, 'html.parser')\n",
        "        \n",
        "        # Extract the hidden input fields from the form\n",
        "        data = {}\n",
        "        for input_field in soup.find_all('input', type='hidden'):\n",
        "            data[input_field['name']] = input_field['value']\n",
        "\n",
        "        # Get the transaction status from the extracted data\n",
        "        transaction_status = data.get(\"status\")\n",
        "        \n",
        "        # Check if the transaction is approved or not\n",
        "        if transaction_status == \"APPROVED\":\n",
        "            print(\"Transaction approved!\")\n",
        "        else:\n",
        "            print(f\"Transaction not approved. Status: {transaction_status} {content_type} {response.text}\")\n",
        "    else:\n",
        "        print(f\"Unexpected response format: {content_type}. {response.text}\")\n",
        "else:\n",
        "    print(f\"Error: {response.status_code}. {response.text}\")"
      ],
      "metadata": {
        "colab": {
          "base_uri": "https://localhost:8080/"
        },
        "id": "hxwotFN9LFwj",
        "outputId": "af4306ea-80af-449f-acdd-f228af670d61"
      },
      "execution_count": 32,
      "outputs": [
        {
          "output_type": "stream",
          "name": "stdout",
          "text": [
            "Transaction approved!\n"
          ]
        }
      ]
    }
  ]
}